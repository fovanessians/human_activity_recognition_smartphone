{
    "cells": [
        {
            "cell_type": "markdown",
            "metadata": {
                "run_control": {
                    "marked": true
                }
            },
            "source": "# Machine Learning Foundation\n\n## Course 3, Part f: Boosting and Stacking LAB"
        },
        {
            "cell_type": "markdown",
            "metadata": {
                "run_control": {
                    "marked": true
                }
            },
            "source": "## Introduction\n\nWe will be using the [Human Activity Recognition with Smartphones](https://archive.ics.uci.edu/ml/datasets/Human+Activity+Recognition+Using+Smartphones) database, which was built from the recordings of study participants performing activities of daily living (ADL) while carrying a smartphone with an embedded inertial sensors. The objective is to classify activities into one of the six activities (walking, walking upstairs, walking downstairs, sitting, standing, and laying) performed.\n\nFor each record in the dataset it is provided: \n\n- Triaxial acceleration from the accelerometer (total acceleration) and the estimated body acceleration. \n- Triaxial angular velocity from the gyroscope. \n- A 561-feature vector with time and frequency domain variables. \n- Its activity label. \n\nMore information about the features is available on the website above."
        },
        {
            "cell_type": "code",
            "execution_count": 26,
            "metadata": {},
            "outputs": [
                {
                    "name": "stdout",
                    "output_type": "stream",
                    "text": "Requirement already satisfied: ansicolors in /opt/conda/envs/Python-3.8-main/lib/python3.8/site-packages (1.1.8)\nNote: you may need to restart the kernel to use updated packages.\n"
                }
            ],
            "source": "pip install ansicolors"
        },
        {
            "cell_type": "code",
            "execution_count": 27,
            "metadata": {},
            "outputs": [
                {
                    "name": "stdout",
                    "output_type": "stream",
                    "text": "Requirement already satisfied: colour in /opt/conda/envs/Python-3.8-main/lib/python3.8/site-packages (0.1.5)\nNote: you may need to restart the kernel to use updated packages.\n"
                }
            ],
            "source": "pip install colour"
        },
        {
            "cell_type": "code",
            "execution_count": 28,
            "metadata": {},
            "outputs": [
                {
                    "ename": "SyntaxError",
                    "evalue": "EOL while scanning string literal (<ipython-input-28-e0e25a82eb59>, line 1)",
                    "output_type": "error",
                    "traceback": [
                        "\u001b[0;36m  File \u001b[0;32m\"<ipython-input-28-e0e25a82eb59>\"\u001b[0;36m, line \u001b[0;32m1\u001b[0m\n\u001b[0;31m    '''supported values are 'Accent', 'Accent_r', 'Blues', 'Blues_r', 'BrBG', 'BrBG_r', 'BuGn', 'BuGn_r', 'BuPu', 'BuPu_r', 'CMRmap', 'CMRmap_r', 'Dark2', 'Dark2_r', 'GnBu', 'GnBu_r', 'Greens', 'Greens_r', 'Greys', 'Greys_r', 'OrRd', 'OrRd_r', 'Oranges', 'Oranges_r', 'PRGn', 'PRGn_r', 'Paired', 'Paired_r', 'Pastel1', 'Pastel1_r', 'Pastel2', 'Pastel2_r', 'PiYG', 'PiYG_r', 'PuBu', 'PuBuGn', 'PuBuGn_r', 'PuBu_r', 'PuOr', 'PuOr_r', 'PuRd', 'PuRd_r', 'Purples', 'Purples_r', 'RdBu', 'RdBu_r', 'RdGy', 'RdGy_r', 'RdPu', 'RdPu_r', 'RdYlBu', 'RdYlBu_r', 'RdYlGn', 'RdYlGn_r', 'Reds', 'Reds_r', 'Set1', 'Set1_r', 'Set2', 'Set2_r', 'Set3', 'Set3_r', 'Spectral', 'Spectral_r', 'Wistia', 'Wistia_r', 'YlGn', 'YlGnBu', 'YlGnBu_r', 'YlGn_r', 'YlOrBr', 'YlOrBr_r', 'YlOrRd', 'YlOrRd_r', 'afmhot', 'afmhot_r', 'autumn', 'autumn_r', 'binary', 'binary_r', 'bone', 'bone_r', 'brg', 'brg_r', 'bwr', 'bwr_r', 'cividis', 'cividis_r', 'cool', 'cool_r', 'coolwarm', 'coolwarm_r', 'copper', 'copper_r', 'crest', 'crest_r', 'cubehelix', 'cubehelix_r', 'flag', 'flag_r', 'flare', 'flare_r', 'gist_earth', 'gist_earth_r', 'gist_gray', 'gist_gray_r', 'gist_heat', 'gist_heat_r', 'gist_ncar', 'gist_ncar_r', 'gist_rainbow', 'gist_rainbow_r', 'gist_stern', 'gist_stern_r', 'gist_yarg', 'gist_yarg_r', 'gnuplot', 'gnuplot2', 'gnuplot2_r', 'gnuplot_r', 'gray', 'gray_r', 'hot', 'hot_r', 'hsv', 'hsv_r', 'icefire', 'icefire_r', 'inferno', 'inferno_r', 'jet', 'jet_r', 'magma', 'magma_r', 'mako', 'mako_r', 'nipy_spectral', 'nipy_spectral_r', 'ocean', 'ocean_r', 'pink', 'pink_r', 'plasma', 'plasma_r', 'prism', 'prism_r', 'rainbow', 'rainbow_r', 'rocket', 'rocket_r', 'seismic', 'seismic_r', 'spring', 'spring_r', 'summer', 'summer_r', 'tab10', 'tab10_r', 'tab20', 'tab20_r', 'tab20b', 'tab20b_r', 'tab20c', 'tab20c_r', 'terrain', 'terrain_r', 'turbo', 'turbo_r', 'twilight', 'twilight_r', 'twilight_shifted', 'twilight_shifted_r', 'viridis', 'viridis_r', 'vlag', 'vlag_r', 'winter', 'winter_r''''\u001b[0m\n\u001b[0m                                                                                                                                                                                                                                                                                                                                                                                                                                                                                                                                                                                                                                                                                                                                                                                                                                                                                                                                                                                                                                                                                                                                                                                                                                                                                                                                                                                                                                                                                                                                                                                                                                                                                                                                                                                                                                                                                                                                                                                                                                               ^\u001b[0m\n\u001b[0;31mSyntaxError\u001b[0m\u001b[0;31m:\u001b[0m EOL while scanning string literal\n"
                    ]
                }
            ],
            "source": "'''supported values are 'Accent', 'Accent_r', 'Blues', 'Blues_r', 'BrBG', 'BrBG_r', 'BuGn', 'BuGn_r', 'BuPu', 'BuPu_r', 'CMRmap', 'CMRmap_r', 'Dark2', 'Dark2_r', 'GnBu', 'GnBu_r', 'Greens', 'Greens_r', 'Greys', 'Greys_r', 'OrRd', 'OrRd_r', 'Oranges', 'Oranges_r', 'PRGn', 'PRGn_r', 'Paired', 'Paired_r', 'Pastel1', 'Pastel1_r', 'Pastel2', 'Pastel2_r', 'PiYG', 'PiYG_r', 'PuBu', 'PuBuGn', 'PuBuGn_r', 'PuBu_r', 'PuOr', 'PuOr_r', 'PuRd', 'PuRd_r', 'Purples', 'Purples_r', 'RdBu', 'RdBu_r', 'RdGy', 'RdGy_r', 'RdPu', 'RdPu_r', 'RdYlBu', 'RdYlBu_r', 'RdYlGn', 'RdYlGn_r', 'Reds', 'Reds_r', 'Set1', 'Set1_r', 'Set2', 'Set2_r', 'Set3', 'Set3_r', 'Spectral', 'Spectral_r', 'Wistia', 'Wistia_r', 'YlGn', 'YlGnBu', 'YlGnBu_r', 'YlGn_r', 'YlOrBr', 'YlOrBr_r', 'YlOrRd', 'YlOrRd_r', 'afmhot', 'afmhot_r', 'autumn', 'autumn_r', 'binary', 'binary_r', 'bone', 'bone_r', 'brg', 'brg_r', 'bwr', 'bwr_r', 'cividis', 'cividis_r', 'cool', 'cool_r', 'coolwarm', 'coolwarm_r', 'copper', 'copper_r', 'crest', 'crest_r', 'cubehelix', 'cubehelix_r', 'flag', 'flag_r', 'flare', 'flare_r', 'gist_earth', 'gist_earth_r', 'gist_gray', 'gist_gray_r', 'gist_heat', 'gist_heat_r', 'gist_ncar', 'gist_ncar_r', 'gist_rainbow', 'gist_rainbow_r', 'gist_stern', 'gist_stern_r', 'gist_yarg', 'gist_yarg_r', 'gnuplot', 'gnuplot2', 'gnuplot2_r', 'gnuplot_r', 'gray', 'gray_r', 'hot', 'hot_r', 'hsv', 'hsv_r', 'icefire', 'icefire_r', 'inferno', 'inferno_r', 'jet', 'jet_r', 'magma', 'magma_r', 'mako', 'mako_r', 'nipy_spectral', 'nipy_spectral_r', 'ocean', 'ocean_r', 'pink', 'pink_r', 'plasma', 'plasma_r', 'prism', 'prism_r', 'rainbow', 'rainbow_r', 'rocket', 'rocket_r', 'seismic', 'seismic_r', 'spring', 'spring_r', 'summer', 'summer_r', 'tab10', 'tab10_r', 'tab20', 'tab20_r', 'tab20b', 'tab20b_r', 'tab20c', 'tab20c_r', 'terrain', 'terrain_r', 'turbo', 'turbo_r', 'twilight', 'twilight_r', 'twilight_shifted', 'twilight_shifted_r', 'viridis', 'viridis_r', 'vlag', 'vlag_r', 'winter', 'winter_r''''"
        },
        {
            "cell_type": "code",
            "execution_count": 29,
            "metadata": {},
            "outputs": [
                {
                    "data": {
                        "text/plain": "'Color(\"red\")           ## human, web compatible representation\\nColor(red=1)           ## default amount of blue and green is 0.0\\nColor(\"blue\", hue=0)   ## hue of blue is 0.66, hue of red is 0.0\\nColor(\"#f00\")          ## standard 3 hex digit web compatible representation\\nColor(\"#ff0000\")       ## standard 6 hex digit web compatible representation\\nColor(hue=0, saturation=1, luminance=0.5)\\nColor(hsl=(0, 1, 0.5)) ## full 3-uple HSL specification\\nColor(rgb=(1, 0, 0))   ## full 3-uple RGB specification\\nColor(Color(\"red\"))    ## recursion doesn\\'t break object'"
                    },
                    "execution_count": 29,
                    "metadata": {},
                    "output_type": "execute_result"
                }
            ],
            "source": "'''Color(\"red\")           ## human, web compatible representation\nColor(red=1)           ## default amount of blue and green is 0.0\nColor(\"blue\", hue=0)   ## hue of blue is 0.66, hue of red is 0.0\nColor(\"#f00\")          ## standard 3 hex digit web compatible representation\nColor(\"#ff0000\")       ## standard 6 hex digit web compatible representation\nColor(hue=0, saturation=1, luminance=0.5)\nColor(hsl=(0, 1, 0.5)) ## full 3-uple HSL specification\nColor(rgb=(1, 0, 0))   ## full 3-uple RGB specification\nColor(Color(\"red\"))    ## recursion doesn't break object'''"
        },
        {
            "cell_type": "code",
            "execution_count": 30,
            "metadata": {
                "ExecuteTime": {
                    "end_time": "2017-04-10T01:06:43.840071Z",
                    "start_time": "2017-04-09T21:06:43.833258-04:00"
                },
                "run_control": {
                    "marked": true
                }
            },
            "outputs": [],
            "source": "import pandas as pd, numpy as np, matplotlib.pyplot as plt, os, sys, seaborn as sns\n#os.chdir('data')\n#from colorsetup import colors, palette\nfrom colour import Color\n#sns.set_palette(palette)"
        },
        {
            "cell_type": "markdown",
            "metadata": {
                "run_control": {
                    "marked": true
                }
            },
            "source": "## Question 1\n\n* Import the data from the file `Human_Activity_Recognition_Using_Smartphones_Data.csv` and examine the shape and data types. For the data types, there will be too many to list each column separately. Rather, aggregate the types by count.\n* Determine if the float columns need to be scaled."
        },
        {
            "cell_type": "code",
            "execution_count": 31,
            "metadata": {
                "ExecuteTime": {
                    "end_time": "2017-04-10T01:06:46.240918Z",
                    "start_time": "2017-04-09T21:06:43.842607-04:00"
                },
                "run_control": {
                    "marked": true
                }
            },
            "outputs": [],
            "source": "# The code was removed by Watson Studio for sharing."
        },
        {
            "cell_type": "markdown",
            "metadata": {
                "run_control": {
                    "marked": true
                }
            },
            "source": "The data has quite a few predictor columns."
        },
        {
            "cell_type": "code",
            "execution_count": 32,
            "metadata": {
                "ExecuteTime": {
                    "end_time": "2017-04-10T01:06:46.257618Z",
                    "start_time": "2017-04-09T21:06:46.243291-04:00"
                },
                "jupyter": {
                    "outputs_hidden": false
                },
                "run_control": {
                    "marked": true
                }
            },
            "outputs": [
                {
                    "data": {
                        "text/plain": "(10299, 562)"
                    },
                    "execution_count": 32,
                    "metadata": {},
                    "output_type": "execute_result"
                }
            ],
            "source": "data.shape"
        },
        {
            "cell_type": "markdown",
            "metadata": {
                "run_control": {
                    "marked": true
                }
            },
            "source": "And they're all float values. The only non-float is the categories column, which is what's being predicted."
        },
        {
            "cell_type": "code",
            "execution_count": 33,
            "metadata": {
                "ExecuteTime": {
                    "end_time": "2017-04-10T01:06:46.310075Z",
                    "start_time": "2017-04-09T21:06:46.260274-04:00"
                },
                "jupyter": {
                    "outputs_hidden": false
                },
                "run_control": {
                    "marked": true
                }
            },
            "outputs": [
                {
                    "data": {
                        "text/plain": "float64    561\nobject       1\ndtype: int64"
                    },
                    "execution_count": 33,
                    "metadata": {},
                    "output_type": "execute_result"
                }
            ],
            "source": "data.dtypes.value_counts()"
        },
        {
            "cell_type": "markdown",
            "metadata": {
                "run_control": {
                    "marked": true
                }
            },
            "source": "The minimum and maximum value for the float columns is -1.0 and 1.0, respectively. However, scaling is never required for tree-based methods."
        },
        {
            "cell_type": "code",
            "execution_count": 34,
            "metadata": {
                "ExecuteTime": {
                    "end_time": "2017-04-10T01:06:46.596533Z",
                    "start_time": "2017-04-09T21:06:46.314312-04:00"
                },
                "jupyter": {
                    "outputs_hidden": false
                },
                "run_control": {
                    "marked": true
                }
            },
            "outputs": [
                {
                    "name": "stdout",
                    "output_type": "stream",
                    "text": "True\nTrue\n"
                }
            ],
            "source": "# Mask to select float columns\nfloat_columns = (data.dtypes == np.float)\n\n# Verify that the maximum of all float columns is 1.0\nprint( (data.loc[:,float_columns].max()==1.0).all() )\n\n# Verify that the minimum of all float columns is -1.0\nprint( (data.loc[:,float_columns].min()==-1.0).all() )\n### END SOLUTION"
        },
        {
            "cell_type": "code",
            "execution_count": 35,
            "metadata": {},
            "outputs": [
                {
                    "data": {
                        "text/plain": "tBodyAcc-mean()-X                        True\ntBodyAcc-mean()-Y                        True\ntBodyAcc-mean()-Z                        True\ntBodyAcc-std()-X                         True\ntBodyAcc-std()-Y                         True\n                                        ...  \nangle(tBodyGyroJerkMean,gravityMean)     True\nangle(X,gravityMean)                     True\nangle(Y,gravityMean)                     True\nangle(Z,gravityMean)                     True\nActivity                                False\nLength: 562, dtype: bool"
                    },
                    "execution_count": 35,
                    "metadata": {},
                    "output_type": "execute_result"
                }
            ],
            "source": "data.dtypes == np.float"
        },
        {
            "cell_type": "markdown",
            "metadata": {
                "run_control": {
                    "marked": true
                }
            },
            "source": "## Question 2\n\n* Integer encode the activities.\n* Split the data into train and test data sets. Decide if the data will be stratified or not during the train/test split."
        },
        {
            "cell_type": "code",
            "execution_count": 36,
            "metadata": {
                "ExecuteTime": {
                    "end_time": "2017-04-10T01:06:47.046807Z",
                    "start_time": "2017-04-09T21:06:46.600558-04:00"
                },
                "jupyter": {
                    "outputs_hidden": false
                },
                "run_control": {
                    "marked": true
                }
            },
            "outputs": [
                {
                    "data": {
                        "text/plain": "array(['LAYING', 'SITTING', 'STANDING', 'WALKING', 'WALKING_DOWNSTAIRS',\n       'WALKING_UPSTAIRS'], dtype=object)"
                    },
                    "execution_count": 36,
                    "metadata": {},
                    "output_type": "execute_result"
                }
            ],
            "source": "### BEGIN SOLUTION\nfrom sklearn.preprocessing import LabelEncoder\n\nle = LabelEncoder()\n\ndata['Activity'] = le.fit_transform(data['Activity'])\n\nle.classes_"
        },
        {
            "cell_type": "code",
            "execution_count": 37,
            "metadata": {
                "ExecuteTime": {
                    "end_time": "2017-04-10T01:06:47.053951Z",
                    "start_time": "2017-04-09T21:06:47.048890-04:00"
                },
                "jupyter": {
                    "outputs_hidden": false
                },
                "run_control": {
                    "marked": true
                }
            },
            "outputs": [
                {
                    "data": {
                        "text/plain": "array([2, 1, 0, 3, 4, 5])"
                    },
                    "execution_count": 37,
                    "metadata": {},
                    "output_type": "execute_result"
                }
            ],
            "source": "data.Activity.unique()"
        },
        {
            "cell_type": "markdown",
            "metadata": {
                "run_control": {
                    "marked": true
                }
            },
            "source": "**NOTE**: We are about to create training and test sets from `data`. On those datasets, we are going to run grid searches over many choices of parameters. This can take some time. In order to shorten the grid search time, feel free to downsample `data` and create `X_train, X_test, y_train, y_test` from the downsampled dataset.\n\nNow split the data into train and test data sets. A stratified split was not used here. If there are issues with any of the error metrics on the test set, it can be a good idea to start model fitting over using a stratified split. Boosting is a pretty powerful model, though, so it may not be necessary in this case."
        },
        {
            "cell_type": "code",
            "execution_count": 38,
            "metadata": {
                "ExecuteTime": {
                    "end_time": "2017-04-10T01:06:47.155794Z",
                    "start_time": "2017-04-09T21:06:47.055576-04:00"
                },
                "run_control": {
                    "marked": true
                }
            },
            "outputs": [],
            "source": "from sklearn.model_selection import train_test_split\n\n# Alternatively, we could stratify the categories in the split, as was done previously\nfeature_columns = [x for x in data.columns if x != 'Activity']\n\nX_train, X_test, y_train, y_test = train_test_split(data[feature_columns], data['Activity'],\n                 test_size=0.3, random_state=42)\n"
        },
        {
            "cell_type": "code",
            "execution_count": 39,
            "metadata": {
                "ExecuteTime": {
                    "end_time": "2017-04-10T01:06:47.170296Z",
                    "start_time": "2017-04-09T21:06:47.157710-04:00"
                },
                "jupyter": {
                    "outputs_hidden": false
                },
                "run_control": {
                    "marked": true
                }
            },
            "outputs": [
                {
                    "data": {
                        "text/plain": "((7209, 561), (7209,), (3090, 561), (3090,))"
                    },
                    "execution_count": 39,
                    "metadata": {},
                    "output_type": "execute_result"
                }
            ],
            "source": "X_train.shape, y_train.shape, X_test.shape, y_test.shape\n### END SOLUTION"
        },
        {
            "cell_type": "markdown",
            "metadata": {
                "run_control": {
                    "marked": true
                }
            },
            "source": "## Question 3\n\n* Fit gradient boosted tree models with all parameters set to their defaults the following tree numbers (`n_estimators = [15, 25, 50, 100, 200, 400]`) and evaluate the accuracy on the test data for each of these models. \n* Plot the accuracy as a function of estimator number.\n\n*Note:* there is no out-of-bag error for boosted models. And the `warm_flag=True` setting has a bug in the gradient boosted model, so don't use it. Simply create the model inside the `for` loop and set the number of estimators at this time. This will make the fitting take a little longer. Additionally, boosting models tend to take longer to fit than bagged ones because the decision stumps must be fit successively."
        },
        {
            "cell_type": "code",
            "execution_count": 40,
            "metadata": {
                "ExecuteTime": {
                    "end_time": "2017-04-10T01:25:21.780609Z",
                    "start_time": "2017-04-09T21:06:47.175316-04:00"
                },
                "jupyter": {
                    "outputs_hidden": false
                },
                "run_control": {
                    "marked": true
                }
            },
            "outputs": [
                {
                    "name": "stdout",
                    "output_type": "stream",
                    "text": "Fitting model with 15 trees\nFitting model with 25 trees\nFitting model with 50 trees\nFitting model with 100 trees\nFitting model with 120 trees\n"
                },
                {
                    "data": {
                        "text/html": "<div>\n<style scoped>\n    .dataframe tbody tr th:only-of-type {\n        vertical-align: middle;\n    }\n\n    .dataframe tbody tr th {\n        vertical-align: top;\n    }\n\n    .dataframe thead th {\n        text-align: right;\n    }\n</style>\n<table border=\"1\" class=\"dataframe\">\n  <thead>\n    <tr style=\"text-align: right;\">\n      <th></th>\n      <th>error</th>\n    </tr>\n    <tr>\n      <th>n_trees</th>\n      <th></th>\n    </tr>\n  </thead>\n  <tbody>\n    <tr>\n      <th>15.0</th>\n      <td>0.104854</td>\n    </tr>\n    <tr>\n      <th>25.0</th>\n      <td>0.072492</td>\n    </tr>\n    <tr>\n      <th>50.0</th>\n      <td>0.040129</td>\n    </tr>\n    <tr>\n      <th>100.0</th>\n      <td>0.024595</td>\n    </tr>\n    <tr>\n      <th>120.0</th>\n      <td>0.021359</td>\n    </tr>\n  </tbody>\n</table>\n</div>",
                        "text/plain": "            error\nn_trees          \n15.0     0.104854\n25.0     0.072492\n50.0     0.040129\n100.0    0.024595\n120.0    0.021359"
                    },
                    "execution_count": 40,
                    "metadata": {},
                    "output_type": "execute_result"
                }
            ],
            "source": "### BEGIN SOLUTION\nfrom sklearn.ensemble import GradientBoostingClassifier\nfrom sklearn.metrics import accuracy_score\n\nerror_list = list()\n\n# Iterate through various possibilities for number of trees\ntree_list = [15, 25, 50, 100, 120]\nfor n_trees in tree_list:\n    \n    # Initialize the gradient boost classifier\n    GBC = GradientBoostingClassifier(max_features = 5, n_estimators=n_trees, random_state=42)\n\n    # Fit the model\n    print(f'Fitting model with {n_trees} trees')\n    GBC.fit(X_train.values, y_train.values)\n    y_pred = GBC.predict(X_test)\n\n    # Get the error\n    error = 1.0 - accuracy_score(y_test, y_pred)\n    \n    # Store it\n    error_list.append(pd.Series({'n_trees': n_trees, 'error': error}))\n\nerror_df = pd.concat(error_list, axis=1).T.set_index('n_trees')\n\nerror_df"
        },
        {
            "cell_type": "markdown",
            "metadata": {},
            "source": "Now plot the result."
        },
        {
            "cell_type": "code",
            "execution_count": 47,
            "metadata": {
                "ExecuteTime": {
                    "end_time": "2017-04-10T01:25:22.377634Z",
                    "start_time": "2017-04-09T21:25:22.121923-04:00"
                },
                "jupyter": {
                    "outputs_hidden": false
                },
                "run_control": {
                    "marked": true
                }
            },
            "outputs": [
                {
                    "data": {
                        "image/png": "[encoded data removed]",
                        "text/plain": "<Figure size 864x576 with 1 Axes>"
                    },
                    "metadata": {},
                    "output_type": "display_data"
                }
            ],
            "source": "sns.set_context('talk')\nsns.set_style('white')\nsns.set_palette('tab20_r')\n\n# Create the plot\nax = error_df.plot(marker='o', figsize=(12, 8), linewidth=5)\n\n# Set parameters\nax.set(xlabel='Number of Trees', ylabel='Error')\nax.set_xlim(0, max(error_df.index)*1.1);\n### END SOLUTION"
        },
        {
            "cell_type": "markdown",
            "metadata": {
                "run_control": {
                    "marked": true
                }
            },
            "source": "## Question 4\n\n* Using a grid search with cross-validation, fit a new gradient boosted classifier with the same list of estimators as question 3. Also try varying the learning rates (0.1, 0.01, 0.001, etc.), the subsampling value (1.0 or 0.5), and the number of maximum features (1, 2, etc.).\n* Examine the parameters of the best fit model.\n* Calculate relevant error metrics on this model and examine the confusion matrix."
        },
        {
            "cell_type": "code",
            "execution_count": 48,
            "metadata": {
                "ExecuteTime": {
                    "end_time": "2017-04-10T01:35:23.346693Z",
                    "start_time": "2017-04-09T21:25:22.379244-04:00"
                },
                "run_control": {
                    "marked": true
                }
            },
            "outputs": [],
            "source": "### BEGIN SOLUTION\nfrom sklearn.model_selection import GridSearchCV\n\n# The parameters to be fit\nparam_grid = {'n_estimators': tree_list,\n              'learning_rate': [0.1, 0.01],\n              'subsample': [1.0, 0.5],\n              'max_features': [1, 2]}\n\n# The grid search object\nGV_GBC = GridSearchCV(GradientBoostingClassifier(random_state=42), \n                      param_grid=param_grid, \n                      scoring='accuracy',\n                      n_jobs=-1)\n\n# Do the grid search\nGV_GBC = GV_GBC.fit(X_train, y_train)"
        },
        {
            "cell_type": "code",
            "execution_count": 49,
            "metadata": {},
            "outputs": [],
            "source": "import pickle\npickle.dump(GV_GBC,open('gv_gbc.p','wb'))\n#saves data if the kernal stops"
        },
        {
            "cell_type": "code",
            "execution_count": 50,
            "metadata": {},
            "outputs": [
                {
                    "name": "stdout",
                    "output_type": "stream",
                    "text": "/home/wsuser/work\r\n"
                }
            ],
            "source": "!pwd"
        },
        {
            "cell_type": "code",
            "execution_count": null,
            "metadata": {},
            "outputs": [],
            "source": "GV_GBC = pickle.load(open(gvc_gbc.p,'rb'))\n#open pickle file"
        },
        {
            "cell_type": "code",
            "execution_count": null,
            "metadata": {
                "ExecuteTime": {
                    "end_time": "2017-04-10T01:35:23.359160Z",
                    "start_time": "2017-04-09T21:35:23.350350-04:00"
                },
                "jupyter": {
                    "outputs_hidden": false
                }
            },
            "outputs": [],
            "source": "# The best model\nGV_GBC.best_estimator_"
        },
        {
            "cell_type": "code",
            "execution_count": null,
            "metadata": {},
            "outputs": [],
            "source": "GV_GBC.best_estimator_.learnin_rate"
        },
        {
            "cell_type": "markdown",
            "metadata": {},
            "source": "The error metrics. Classification report is particularly convenient for multi-class cases."
        },
        {
            "cell_type": "code",
            "execution_count": null,
            "metadata": {
                "ExecuteTime": {
                    "end_time": "2017-04-10T01:35:23.673080Z",
                    "start_time": "2017-04-09T21:35:23.361883-04:00"
                },
                "jupyter": {
                    "outputs_hidden": false
                }
            },
            "outputs": [],
            "source": "from sklearn.metrics import classification_report\n\ny_pred = GV_GBC.predict(X_test)\nprint(classification_report(y_pred, y_test))"
        },
        {
            "cell_type": "markdown",
            "metadata": {},
            "source": "The confusion matrix. Note that the gradient boosted model has a little trouble distinguishing between activity class 1 and 2."
        },
        {
            "cell_type": "code",
            "execution_count": null,
            "metadata": {
                "ExecuteTime": {
                    "end_time": "2017-04-10T01:35:24.084430Z",
                    "start_time": "2017-04-09T21:35:23.675399-04:00"
                },
                "jupyter": {
                    "outputs_hidden": false
                }
            },
            "outputs": [],
            "source": "from sklearn.metrics import confusion_matrix\n\nsns.set_context('talk')\ncm = confusion_matrix(y_test, y_pred)\nax = sns.heatmap(cm, annot=True, fmt='d', cmap=Color)\n### END SOLUTION"
        },
        {
            "cell_type": "markdown",
            "metadata": {},
            "source": "## Question 5\n\n* Create an AdaBoost model and fit it using grid search, much like question 4. Try a range of estimators between 100 and 200.\n* Compare the errors from AdaBoost to those from the GradientBoostedClassifier."
        },
        {
            "cell_type": "code",
            "execution_count": null,
            "metadata": {
                "ExecuteTime": {
                    "end_time": "2017-04-10T01:41:12.569486Z",
                    "start_time": "2017-04-09T21:35:24.086016-04:00"
                }
            },
            "outputs": [],
            "source": "### BEGIN SOLUTION\nfrom sklearn.ensemble import AdaBoostClassifier\nfrom sklearn.tree import DecisionTreeClassifier\n\nABC = AdaBoostClassifier(DecisionTreeClassifier(max_depth=1))\n\nparam_grid = {'n_estimators': [100, 150, 200],\n              'learning_rate': [0.01, 0.001]}\n\nGV_ABC = GridSearchCV(ABC,\n                      param_grid=param_grid, \n                      scoring='accuracy',\n                      n_jobs=-1)\n\nGV_ABC = GV_ABC.fit(X_train, y_train)"
        },
        {
            "cell_type": "markdown",
            "metadata": {},
            "source": "The best model."
        },
        {
            "cell_type": "code",
            "execution_count": null,
            "metadata": {
                "ExecuteTime": {
                    "end_time": "2017-04-10T01:41:12.577054Z",
                    "start_time": "2017-04-09T21:41:12.571918-04:00"
                },
                "jupyter": {
                    "outputs_hidden": false
                }
            },
            "outputs": [],
            "source": "# The best model\nGV_ABC.best_estimator_"
        },
        {
            "cell_type": "markdown",
            "metadata": {},
            "source": "The error metrics. Note that the issues with class 1 and 2 appear to have become more problematic. Also note other issues for classes 3 - 5. AdaBoost is very sensitive to outliers, so that could be the problem here."
        },
        {
            "cell_type": "code",
            "execution_count": null,
            "metadata": {
                "ExecuteTime": {
                    "end_time": "2017-04-10T01:41:12.694494Z",
                    "start_time": "2017-04-09T21:41:12.579980-04:00"
                },
                "jupyter": {
                    "outputs_hidden": false
                }
            },
            "outputs": [],
            "source": "y_pred = GV_ABC.predict(X_test)\nprint(classification_report(y_pred, y_test))"
        },
        {
            "cell_type": "code",
            "execution_count": null,
            "metadata": {
                "ExecuteTime": {
                    "end_time": "2017-04-10T01:41:12.986696Z",
                    "start_time": "2017-04-09T21:41:12.696346-04:00"
                },
                "jupyter": {
                    "outputs_hidden": false
                }
            },
            "outputs": [],
            "source": "sns.set_context('talk')\ncm = confusion_matrix(y_test, y_pred)\nax = sns.heatmap(cm, annot=True, fmt='d', cmap=colors)\n### END SOLUTION"
        },
        {
            "cell_type": "markdown",
            "metadata": {},
            "source": "## Question 6\n\n* Fit a logistic regression model with regularization. \n* Using `VotingClassifier`, fit the logistic regression model along with either the GratientBoostedClassifier or the AdaBoost model (or both) from questions 4 and 5.\n* Determine the error as before and compare the results to the appropriate gradient boosted model(s).\n* Plot the confusion matrix for the best model created in this set of exercises."
        },
        {
            "cell_type": "code",
            "execution_count": null,
            "metadata": {
                "ExecuteTime": {
                    "end_time": "2017-04-10T01:41:56.052177Z",
                    "start_time": "2017-04-09T21:41:12.988303-04:00"
                }
            },
            "outputs": [],
            "source": "### BEGIN SOLUTION\nfrom sklearn.linear_model import LogisticRegression\n\n# L2 regularized logistic regression\nLR_L2 = LogisticRegression(penalty='l2', max_iter=500, solver='saga').fit(X_train, y_train)"
        },
        {
            "cell_type": "markdown",
            "metadata": {},
            "source": "Check the errors and confusion matrix for the logistic regression model."
        },
        {
            "cell_type": "code",
            "execution_count": null,
            "metadata": {
                "ExecuteTime": {
                    "end_time": "2017-04-10T01:41:56.070163Z",
                    "start_time": "2017-04-09T21:41:56.054354-04:00"
                },
                "jupyter": {
                    "outputs_hidden": false
                }
            },
            "outputs": [],
            "source": "y_pred = LR_L2.predict(X_test)\nprint(classification_report(y_pred, y_test))"
        },
        {
            "cell_type": "code",
            "execution_count": null,
            "metadata": {
                "ExecuteTime": {
                    "end_time": "2017-04-10T01:41:56.388450Z",
                    "start_time": "2017-04-09T21:41:56.072785-04:00"
                },
                "jupyter": {
                    "outputs_hidden": false
                },
                "scrolled": true
            },
            "outputs": [],
            "source": "sns.set_context('talk')\ncm = confusion_matrix(y_test, y_pred)\nax = sns.heatmap(cm, annot=True, fmt='d', cmap=colors)"
        },
        {
            "cell_type": "markdown",
            "metadata": {},
            "source": "And now the stacked model."
        },
        {
            "cell_type": "code",
            "execution_count": null,
            "metadata": {
                "ExecuteTime": {
                    "end_time": "2017-04-10T01:52:23.739656Z",
                    "start_time": "2017-04-09T21:41:56.390038-04:00"
                }
            },
            "outputs": [],
            "source": "from sklearn.ensemble import VotingClassifier\n\n# The combined model--logistic regression and gradient boosted trees\nestimators = [('LR_L2', LR_L2), ('GBC', GV_GBC)]\n\n# Though it wasn't done here, it is often desirable to train \n# this model using an additional hold-out data set and/or with cross validation\nVC = VotingClassifier(estimators, voting='soft')\nVC = VC.fit(X_train, y_train)"
        },
        {
            "cell_type": "markdown",
            "metadata": {},
            "source": "Performance for the voting classifier should improve relative to either logistic regression or gradient boosted trees alone. However, the fact that logistic regression does almost as well as gradient boosted trees is an important reminder to try the simplest model first. In some cases, its performance will be good enough."
        },
        {
            "cell_type": "code",
            "execution_count": null,
            "metadata": {
                "ExecuteTime": {
                    "end_time": "2017-04-10T01:52:24.057613Z",
                    "start_time": "2017-04-09T21:52:23.742553-04:00"
                },
                "jupyter": {
                    "outputs_hidden": false
                }
            },
            "outputs": [],
            "source": "y_pred = VC.predict(X_test)\nprint(classification_report(y_test, y_pred))"
        },
        {
            "cell_type": "code",
            "execution_count": null,
            "metadata": {
                "ExecuteTime": {
                    "end_time": "2017-04-10T01:52:24.442361Z",
                    "start_time": "2017-04-09T21:52:24.059996-04:00"
                },
                "jupyter": {
                    "outputs_hidden": false
                }
            },
            "outputs": [],
            "source": "sns.set_context('talk')\ncm = confusion_matrix(y_test, y_pred)\nax = sns.heatmap(cm, annot=True, fmt='d', cmap=colors)\n### END SOLUTION"
        },
        {
            "cell_type": "markdown",
            "metadata": {},
            "source": "---\n### Machine Learning Foundation (C) 2020 IBM Corporation"
        }
    ],
    "metadata": {
        "kernelspec": {
            "display_name": "Python 3.8",
            "language": "python",
            "name": "python3"
        },
        "language_info": {
            "codemirror_mode": {
                "name": "ipython",
                "version": 3
            },
            "file_extension": ".py",
            "mimetype": "text/x-python",
            "name": "python",
            "nbconvert_exporter": "python",
            "pygments_lexer": "ipython3",
            "version": "3.8.10"
        }
    },
    "nbformat": 4,
    "nbformat_minor": 4
}